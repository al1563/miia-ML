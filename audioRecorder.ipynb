{
 "cells": [
  {
   "cell_type": "code",
   "execution_count": 1,
   "metadata": {},
   "outputs": [],
   "source": [
    "# Code modified from realpython.com\n",
    "# Import libraries\n",
    "import wave\n",
    "import pyaudio"
   ]
  },
  {
   "cell_type": "code",
   "execution_count": 2,
   "metadata": {},
   "outputs": [],
   "source": [
    "# Default audio settings, can potentially be modified by user\n",
    "\n",
    "chunk = 1024 # number of frames in buffer\n",
    "audioFormat = pyaudio.paInt16 # size of sample (2 bytes)\n",
    "channels = 2 # number of samples each frame will have\n",
    "sampleRate = 44100 # standard CD sample rate as default\n",
    "seconds = 5\n",
    "outputFileName = \"output.wav\" # Change later to time and date"
   ]
  },
  {
   "cell_type": "code",
   "execution_count": 8,
   "metadata": {},
   "outputs": [
    {
     "name": "stdout",
     "output_type": "stream",
     "text": [
      "recording start\n",
      "recording end\n"
     ]
    }
   ],
   "source": [
    "# Instantiate\n",
    "p = pyaudio.PyAudio()\n",
    "\n",
    "stream = p.open(format=audioFormat,\n",
    "                channels=channels,\n",
    "                rate=sampleRate,\n",
    "                input=True,\n",
    "                frames_per_buffer=chunk)\n",
    "\n",
    "print(\"recording start\")\n",
    "\n",
    "frames = []\n",
    "\n",
    "for i in range(0, int(sampleRate / chunk * seconds)):\n",
    "    data = stream.read(chunk)\n",
    "    frames.append(data)\n",
    "\n",
    "print(\"recording end\")\n",
    "\n",
    "# Stop stream and close pyaudio\n",
    "stream.stop_stream()\n",
    "stream.close()\n",
    "p.terminate()"
   ]
  },
  {
   "cell_type": "code",
   "execution_count": 6,
   "metadata": {},
   "outputs": [],
   "source": [
    "# Save recording to working directory\n",
    "waveWriter = wave.open(outputFileName, 'wb')\n",
    "waveWriter.setnchannels(channels)\n",
    "waveWriter.setsampwidth(p.get_sample_size(audioFormat))\n",
    "waveWriter.setframerate(sampleRate)\n",
    "waveWriter.writeframes(b''.join(frames))\n",
    "waveWriter.close()"
   ]
  }
 ],
 "metadata": {
  "kernelspec": {
   "display_name": "Python 3",
   "language": "python",
   "name": "python3"
  },
  "language_info": {
   "codemirror_mode": {
    "name": "ipython",
    "version": 3
   },
   "file_extension": ".py",
   "mimetype": "text/x-python",
   "name": "python",
   "nbconvert_exporter": "python",
   "pygments_lexer": "ipython3",
   "version": "3.7.0"
  }
 },
 "nbformat": 4,
 "nbformat_minor": 4
}
