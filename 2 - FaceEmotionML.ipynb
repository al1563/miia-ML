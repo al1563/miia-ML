{
 "cells": [
  {
   "cell_type": "code",
   "execution_count": 3,
   "metadata": {},
   "outputs": [],
   "source": [
    "import numpy as np\n",
    "import pandas as pd\n",
    "import matplotlib.pyplot as plt\n",
    "import matplotlib.image as mpimg\n",
    "%matplotlib inline\n",
    "from PIL import Image\n",
    "\n",
    "# NN models\n",
    "import tensorflow as tf\n",
    "from tensorflow.keras.models import Sequential\n",
    "from tensorflow.keras.layers import Dense, Dropout, Flatten\n",
    "from tensorflow.keras.layers import Conv2D, MaxPooling2D\n",
    "from tensorflow.keras import optimizers\n",
    "from tensorflow.keras.wrappers.scikit_learn import KerasClassifier\n",
    "from tensorflow.keras.callbacks import EarlyStopping, ModelCheckpoint\n",
    "from tensorflow.keras.models import load_model\n",
    "\n",
    "from tqdm import tqdm\n",
    "import glob\n",
    "from sklearn.metrics import accuracy_score\n",
    "\n",
    "# import warnings filter\n",
    "from warnings import simplefilter\n",
    "# ignore all future warnings\n",
    "simplefilter(action='ignore', category=FutureWarning)"
   ]
  },
  {
   "cell_type": "code",
   "execution_count": 4,
   "metadata": {},
   "outputs": [],
   "source": [
    "# Get path to data directory\n",
    "import os\n",
    "workingdir = os.path.abspath(os.getcwd())\n",
    "datadir = workingdir + '\\data'"
   ]
  },
  {
   "cell_type": "markdown",
   "metadata": {},
   "source": [
    "#### Get path to facial expression datasets"
   ]
  },
  {
   "cell_type": "code",
   "execution_count": 27,
   "metadata": {},
   "outputs": [],
   "source": [
    "expressiondir = datadir + \"\\\\facial_expressions\""
   ]
  },
  {
   "cell_type": "code",
   "execution_count": 28,
   "metadata": {},
   "outputs": [
    {
     "data": {
      "text/plain": [
       "'D:\\\\covidhackathon\\\\data\\\\facial_expressions'"
      ]
     },
     "execution_count": 28,
     "metadata": {},
     "output_type": "execute_result"
    }
   ],
   "source": [
    "expressiondir"
   ]
  },
  {
   "cell_type": "code",
   "execution_count": 29,
   "metadata": {},
   "outputs": [],
   "source": [
    "datafile = expressiondir + '/data/legend.csv'\n",
    "datafile2 = expressiondir + '/data/legend2.csv'\n",
    "imagedir = expressiondir + '\\\\images'"
   ]
  },
  {
   "cell_type": "markdown",
   "metadata": {},
   "source": [
    "## Parameters. Load Data"
   ]
  },
  {
   "cell_type": "code",
   "execution_count": 30,
   "metadata": {},
   "outputs": [],
   "source": [
    "IMG_HEIGHT, IMG_WIDTH, IMG_CHANNEL = 350, 350, 1\n",
    "NUM_CLASSES = 3; \n",
    "facevalue = {'negative': 0, 'happiness': 1, 'neutral': 2}\n",
    "emotionweights = {0:1, 1:1, 2:2}\n",
    "\n",
    "def DecodeJPG(img):\n",
    "    # convert the compressed string to a 3D uint8 tensor\n",
    "    img = tf.image.decode_jpeg(img, channels=3)\n",
    "    img = tf.image.rgb_to_grayscale(img)\n",
    "    # Use `convert_image_dtype` to convert to floats in the [0,1] range.\n",
    "    img = tf.image.convert_image_dtype(img, tf.float32)\n",
    "    # resize the image to the desired size.\n",
    "    return tf.image.resize(img, [IMG_HEIGHT, IMG_WIDTH])\n",
    "\n",
    "def ProcessFiles(data_id, im_filename, emotion):\n",
    "    full_filename = imagedir + '\\\\' + im_filename\n",
    "    img = tf.io.read_file(full_filename)\n",
    "    img = DecodeJPG(img)\n",
    "    return img, emotion"
   ]
  },
  {
   "cell_type": "code",
   "execution_count": 31,
   "metadata": {},
   "outputs": [],
   "source": [
    "file_labels = tf.data.experimental.CsvDataset(datafile, record_defaults=[tf.string, tf.string, tf.int32], header=True).shuffle(10000)"
   ]
  },
  {
   "cell_type": "code",
   "execution_count": 32,
   "metadata": {},
   "outputs": [],
   "source": [
    "img_labels = file_labels.map(ProcessFiles, num_parallel_calls=tf.data.experimental.AUTOTUNE).batch(64).repeat()\n",
    "img_labels_val = img_labels.take(2000) # validation\n",
    "img_labels_tra = img_labels.skip(2000) # training"
   ]
  },
  {
   "cell_type": "code",
   "execution_count": 33,
   "metadata": {},
   "outputs": [],
   "source": [
    "iterator = img_labels.make_initializable_iterator()\n",
    "next_op = iterator.get_next()"
   ]
  },
  {
   "cell_type": "code",
   "execution_count": 34,
   "metadata": {},
   "outputs": [
    {
     "name": "stdout",
     "output_type": "stream",
     "text": [
      "[1 2 2 1 1 2 2 1 2 2 2 2 1 2 1 2 2 1 2 2 2 1 2 1 2 2 2 2 2 1 2 2 2 1 2 1 2\n",
      " 0 2 2 2 1 1 2 2 0 1 2 2 1 1 1 2 1 1 1 2 2 2 1 2 1 2 1]\n"
     ]
    }
   ],
   "source": [
    "with tf.Session() as sess:\n",
    "    sess.run(iterator.initializer)\n",
    "    sess.run(tf.tables_initializer())\n",
    "    img, lab = sess.run(next_op)\n",
    "    print(lab)"
   ]
  },
  {
   "cell_type": "code",
   "execution_count": 35,
   "metadata": {},
   "outputs": [
    {
     "data": {
      "text/plain": [
       "array([1, 2, 2, 1, 1, 2, 2, 1, 2, 2, 2, 2, 1, 2, 1, 2, 2, 1, 2, 2, 2, 1,\n",
       "       2, 1, 2, 2, 2, 2, 2, 1, 2, 2, 2, 1, 2, 1, 2, 0, 2, 2, 2, 1, 1, 2,\n",
       "       2, 0, 1, 2, 2, 1, 1, 1, 2, 1, 1, 1, 2, 2, 2, 1, 2, 1, 2, 1])"
      ]
     },
     "execution_count": 35,
     "metadata": {},
     "output_type": "execute_result"
    }
   ],
   "source": [
    "lab # Labels"
   ]
  },
  {
   "cell_type": "markdown",
   "metadata": {},
   "source": [
    "## Train Model"
   ]
  },
  {
   "cell_type": "code",
   "execution_count": 36,
   "metadata": {},
   "outputs": [],
   "source": [
    "#We will create a simple architecture with 2 convolutional layers, one dense hidden layer and an output layer.\n",
    "model = Sequential()\n",
    "model.add(Conv2D(32, kernel_size=(3, 3),strides = (2,2), padding = 'same', activation='relu',input_shape=(IMG_HEIGHT,IMG_WIDTH,IMG_CHANNEL)))\n",
    "model.add(Conv2D(64, (3, 3), strides = (2,2), activation='relu'))\n",
    "model.add(Conv2D(64, (3, 3), strides = (2,2), activation='relu'))\n",
    "model.add(MaxPooling2D(pool_size=(2, 2)))\n",
    "#model.add(Dropout(0.5))\n",
    "model.add(Flatten())\n",
    "model.add(Dense(128, activation='relu'))\n",
    "#model.add(Dropout(0.5))\n",
    "model.add(Dense(NUM_CLASSES, activation='softmax'))"
   ]
  },
  {
   "cell_type": "code",
   "execution_count": 37,
   "metadata": {},
   "outputs": [],
   "source": [
    "model.compile(loss='sparse_categorical_crossentropy',optimizer='Adam',metrics=['accuracy'])"
   ]
  },
  {
   "cell_type": "code",
   "execution_count": 38,
   "metadata": {},
   "outputs": [
    {
     "name": "stdout",
     "output_type": "stream",
     "text": [
      "_________________________________________________________________\n",
      "Layer (type)                 Output Shape              Param #   \n",
      "=================================================================\n",
      "conv2d_3 (Conv2D)            (None, 175, 175, 32)      320       \n",
      "_________________________________________________________________\n",
      "conv2d_4 (Conv2D)            (None, 87, 87, 64)        18496     \n",
      "_________________________________________________________________\n",
      "conv2d_5 (Conv2D)            (None, 43, 43, 64)        36928     \n",
      "_________________________________________________________________\n",
      "max_pooling2d_1 (MaxPooling2 (None, 21, 21, 64)        0         \n",
      "_________________________________________________________________\n",
      "flatten_1 (Flatten)          (None, 28224)             0         \n",
      "_________________________________________________________________\n",
      "dense_2 (Dense)              (None, 128)               3612800   \n",
      "_________________________________________________________________\n",
      "dense_3 (Dense)              (None, 3)                 387       \n",
      "=================================================================\n",
      "Total params: 3,668,931\n",
      "Trainable params: 3,668,931\n",
      "Non-trainable params: 0\n",
      "_________________________________________________________________\n",
      "None\n"
     ]
    }
   ],
   "source": [
    "print(model.summary())"
   ]
  },
  {
   "cell_type": "code",
   "execution_count": 39,
   "metadata": {},
   "outputs": [
    {
     "name": "stdout",
     "output_type": "stream",
     "text": [
      "Epoch 1/10\n",
      "100/100 [==============================] - 295s 3s/step - loss: 0.8364 - acc: 0.5861 - val_loss: 0.6106 - val_acc: 0.7742\n",
      "Epoch 2/10\n",
      "100/100 [==============================] - 149s 1s/step - loss: 0.5846 - acc: 0.7593 - val_loss: 0.5449 - val_acc: 0.7711\n",
      "Epoch 3/10\n",
      "100/100 [==============================] - 149s 1s/step - loss: 0.5557 - acc: 0.7722 - val_loss: 0.4807 - val_acc: 0.8141\n",
      "Epoch 4/10\n",
      "100/100 [==============================] - 148s 1s/step - loss: 0.4642 - acc: 0.8187 - val_loss: 0.4826 - val_acc: 0.8133\n",
      "Epoch 5/10\n",
      "100/100 [==============================] - 156s 2s/step - loss: 0.4789 - acc: 0.8092 - val_loss: 0.4263 - val_acc: 0.8250\n",
      "Epoch 6/10\n",
      "100/100 [==============================] - 158s 2s/step - loss: 0.4218 - acc: 0.8396 - val_loss: 0.4456 - val_acc: 0.8195\n",
      "Epoch 7/10\n",
      "100/100 [==============================] - 147s 1s/step - loss: 0.4514 - acc: 0.8148 - val_loss: 0.4078 - val_acc: 0.8344\n",
      "Epoch 8/10\n",
      "100/100 [==============================] - 149s 1s/step - loss: 0.3763 - acc: 0.8516 - val_loss: 0.3721 - val_acc: 0.8461\n",
      "Epoch 9/10\n",
      "100/100 [==============================] - 148s 1s/step - loss: 0.4008 - acc: 0.8342 - val_loss: 0.3240 - val_acc: 0.8758\n",
      "Epoch 10/10\n",
      "100/100 [==============================] - 147s 1s/step - loss: 0.3654 - acc: 0.8585 - val_loss: 0.3056 - val_acc: 0.8695\n"
     ]
    }
   ],
   "source": [
    "history = model.fit(x=img_labels_tra, epochs=10, steps_per_epoch=100, verbose=1, validation_data=img_labels_val, validation_steps = 20)"
   ]
  },
  {
   "cell_type": "code",
   "execution_count": 18,
   "metadata": {},
   "outputs": [
    {
     "name": "stdout",
     "output_type": "stream",
     "text": [
      "dict_keys(['loss', 'acc', 'val_loss', 'val_acc'])\n"
     ]
    },
    {
     "data": {
      "image/png": "[encoded data removed]",
      "text/plain": [
       "<Figure size 432x288 with 1 Axes>"
      ]
     },
     "metadata": {
      "needs_background": "light"
     },
     "output_type": "display_data"
    },
    {
     "data": {
      "image/png": "[encoded data removed]",
      "text/plain": [
       "<Figure size 432x288 with 1 Axes>"
      ]
     },
     "metadata": {
      "needs_background": "light"
     },
     "output_type": "display_data"
    }
   ],
   "source": [
    "print(history.history.keys())\n",
    "#  \"Accuracy\"\n",
    "plt.plot(history.history['acc'])\n",
    "plt.plot(history.history['val_acc'])\n",
    "plt.title('model accuracy')\n",
    "plt.ylabel('accuracy')\n",
    "plt.xlabel('epoch')\n",
    "plt.legend(['train', 'validation'], loc='upper left')\n",
    "plt.show()\n",
    "# \"Loss\"\n",
    "plt.plot(history.history['loss'])\n",
    "plt.plot(history.history['val_loss'])\n",
    "plt.title('model loss')\n",
    "plt.ylabel('loss')\n",
    "plt.xlabel('epoch')\n",
    "plt.legend(['train', 'validation'], loc='upper left')\n",
    "plt.show()"
   ]
  },
  {
   "cell_type": "code",
   "execution_count": 19,
   "metadata": {},
   "outputs": [],
   "source": [
    "model.save('model2.h5')"
   ]
  },
  {
   "cell_type": "markdown",
   "metadata": {},
   "source": [
    "## Test Model"
   ]
  },
  {
   "cell_type": "code",
   "execution_count": null,
   "metadata": {},
   "outputs": [],
   "source": [
    "from tensorflow.keras.models import load_model\n",
    "model = load_model('model2.h5')"
   ]
  },
  {
   "cell_type": "code",
   "execution_count": null,
   "metadata": {},
   "outputs": [],
   "source": [
    "iterator = img_labels_val.make_initializable_iterator()\n",
    "next_op = iterator.get_next()\n",
    "img_lst, lab_lst = [], []\n",
    "with tf.Session() as sess:\n",
    "    sess.run(iterator.initializer)\n",
    "    sess.run(tf.tables_initializer())\n",
    "    for _ in range(10):\n",
    "        img, lab = sess.run(next_op)\n",
    "        img_lst.append(img)\n",
    "        lab_lst.append(lab)"
   ]
  },
  {
   "cell_type": "code",
   "execution_count": null,
   "metadata": {},
   "outputs": [],
   "source": [
    "acc_lst = []\n",
    "acc_2nd = []\n",
    "for img, lab in zip(img_lst, lab_lst):\n",
    "    pred = model.predict_classes(img)\n",
    "    acc_lst.append(np.mean(np.equal(lab, pred)))\n",
    "    acc_2nd.append(accuracy_score(lab,pred))"
   ]
  },
  {
   "cell_type": "code",
   "execution_count": 23,
   "metadata": {},
   "outputs": [
    {
     "data": {
      "text/plain": [
       "[0.890625,\n",
       " 0.984375,\n",
       " 0.90625,\n",
       " 0.90625,\n",
       " 0.921875,\n",
       " 0.90625,\n",
       " 0.859375,\n",
       " 1.0,\n",
       " 0.9375,\n",
       " 0.921875]"
      ]
     },
     "execution_count": 23,
     "metadata": {},
     "output_type": "execute_result"
    }
   ],
   "source": [
    "acc_lst"
   ]
  },
  {
   "cell_type": "code",
   "execution_count": 24,
   "metadata": {},
   "outputs": [
    {
     "data": {
      "text/plain": [
       "[0.890625,\n",
       " 0.984375,\n",
       " 0.90625,\n",
       " 0.90625,\n",
       " 0.921875,\n",
       " 0.90625,\n",
       " 0.859375,\n",
       " 1.0,\n",
       " 0.9375,\n",
       " 0.921875]"
      ]
     },
     "execution_count": 24,
     "metadata": {},
     "output_type": "execute_result"
    }
   ],
   "source": [
    "acc_2nd"
   ]
  },
  {
   "cell_type": "code",
   "execution_count": null,
   "metadata": {},
   "outputs": [],
   "source": []
  },
  {
   "cell_type": "markdown",
   "metadata": {},
   "source": [
    "# Now trying it on your own data!"
   ]
  },
  {
   "cell_type": "code",
   "execution_count": null,
   "metadata": {},
   "outputs": [],
   "source": [
    "img_list = glob.glob('data\\MyFaces/*.png')"
   ]
  },
  {
   "cell_type": "code",
   "execution_count": null,
   "metadata": {},
   "outputs": [],
   "source": [
    "tograyscale = True;\n",
    "\n",
    "for img_file in img_list:\n",
    "    img = Image.open(img_file)\n",
    "    img = img.resize((IMG_WIDTH, IMG_HEIGHT))\n",
    "    print('Original Image'); display(img); \n",
    "    \n",
    "    if tograyscale:\n",
    "        img = img.convert('L') #.convert('RGB')\n",
    "        im = np.asarray(img)\n",
    "    else:\n",
    "        im = np.asarray(img)\n",
    "        im = im[:,:,:3]\n",
    "    im = im/255\n",
    "    im_input = im.reshape((1,IMG_WIDTH, IMG_HEIGHT, IMG_CHANNEL))\n",
    "    \n",
    "    pred_class = model.predict_classes(im_input)[0]\n",
    "    pred_class = list(facevalue.keys())[pred_class]\n",
    "    label = model.predict(im_input)[0]\n",
    "    \n",
    "    plt.imshow(im); plt.axis('off');\n",
    "    plt.show(); \n",
    "\n",
    "    print('This person is showing', list(facevalue.keys())[label.argmax()])\n",
    "    plt.figure(figsize = (4,9))\n",
    "    plt.imshow(label.reshape(1,3), vmax = 1, vmin= 0, cmap = 'Blues'); \n",
    "    plt.yticks([]); plt.xticks(np.arange(3), list(facevalue.keys()), rotation = 45); plt.colorbar(shrink = .1); plt.show()"
   ]
  },
  {
   "cell_type": "code",
   "execution_count": null,
   "metadata": {},
   "outputs": [],
   "source": []
  },
  {
   "cell_type": "code",
   "execution_count": null,
   "metadata": {},
   "outputs": [],
   "source": []
  },
  {
   "cell_type": "code",
   "execution_count": null,
   "metadata": {},
   "outputs": [],
   "source": []
  }
 ],
 "metadata": {
  "kernelspec": {
   "display_name": "Python 3",
   "language": "python",
   "name": "python3"
  },
  "language_info": {
   "codemirror_mode": {
    "name": "ipython",
    "version": 3
   },
   "file_extension": ".py",
   "mimetype": "text/x-python",
   "name": "python",
   "nbconvert_exporter": "python",
   "pygments_lexer": "ipython3",
   "version": "3.6.10"
  }
 },
 "nbformat": 4,
 "nbformat_minor": 4
}
